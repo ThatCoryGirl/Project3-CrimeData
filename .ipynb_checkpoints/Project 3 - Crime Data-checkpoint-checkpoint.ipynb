{
 "cells": [
  {
   "cell_type": "markdown",
   "id": "e8531f63",
   "metadata": {},
   "source": [
    "# **Objective**: Our project will investigate drug poisoning and fatalities, particularly examining the increasing prevalence of fentanyl, a powerful synthetic opioid approved by the FDA for pain relief and anesthesia. We aim to analyze fentanyl data alongside other substances. We are presenting statistics on fatalities and poisonings categorized by age, gender, and zip code. Additionally, we seek to correlate zip codes with income levels to provide a comprehensive understanding of the impact of drug use on different socioeconomical levels. Our data was gathered from 1999 to 2021."
   ]
  },
  {
   "cell_type": "code",
   "execution_count": null,
   "id": "fd92f499",
   "metadata": {},
   "outputs": [],
   "source": [
    "#Dependencies\n",
    "import pandas as pd\n",
    "import numpy as np\n",
    "import matplotlib.pyplot as plt\n",
    "from pathlib import Path\n",
    "from scipy import stats\n",
    "import hvplot.pandas\n",
    "import seaborn as sns\n",
    "\n",
    "#When installing Folium, Branca automatically installs as well. It is used to manipulate HTML, CSS, or Javascript\n",
    "import folium\n",
    "import branca"
   ]
  }
 ],
 "metadata": {
  "kernelspec": {
   "display_name": "Python 3 (ipykernel)",
   "language": "python",
   "name": "python3"
  },
  "language_info": {
   "codemirror_mode": {
    "name": "ipython",
    "version": 3
   },
   "file_extension": ".py",
   "mimetype": "text/x-python",
   "name": "python",
   "nbconvert_exporter": "python",
   "pygments_lexer": "ipython3",
   "version": "3.11.5"
  }
 },
 "nbformat": 4,
 "nbformat_minor": 5
}
